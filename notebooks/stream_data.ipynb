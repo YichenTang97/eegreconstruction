{
 "cells": [
  {
   "cell_type": "code",
   "execution_count": 6,
   "metadata": {},
   "outputs": [
    {
     "data": {
      "text/plain": [
       "[<pylsl.pylsl.StreamInfo at 0x211662b5eb0>]"
      ]
     },
     "execution_count": 6,
     "metadata": {},
     "output_type": "execute_result"
    }
   ],
   "source": [
    "from pylsl import StreamInlet, resolve_stream, resolve_byprop\n",
    "streams = resolve_byprop(\"name\", \"UN-2019.05.50\", minimum=1, timeout=30)\n",
    "streams"
   ]
  },
  {
   "attachments": {},
   "cell_type": "markdown",
   "metadata": {},
   "source": [
    "### Check distribution of time delays"
   ]
  },
  {
   "cell_type": "code",
   "execution_count": 27,
   "metadata": {},
   "outputs": [],
   "source": [
    "from pylsl import StreamInfo, StreamInlet, StreamOutlet, resolve_stream\n",
    "import pandas as pd\n",
    "import time\n",
    "\n",
    "# initialize the streaming layer\n",
    "finished = False\n",
    "streams = resolve_byprop(\"name\", \"UN-2019.05.50\", minimum=1)\n",
    "\n",
    "#Create the stream inlet \n",
    "inlet = StreamInlet(streams[0])\n",
    "\n",
    "#initialize the colomns of your data and your dictionary to capture the data.\n",
    "columns=['Time','FZ', 'C3', 'CZ', 'C4', 'PZ', 'PO7', 'OZ', 'PO8','AccX','AccY','AccZ',\n",
    "'Gyro1','Gyro2','Gyro3', 'Battery','Counter','Validation']\n",
    "data_dict = dict((k, []) for k in columns)\n",
    "x=0\n",
    "delay_list = []\n",
    "old_timestamp = None\n",
    "while x < 10000: #not finished:\n",
    "   # get the streamed data. Columns of sample are equal to the columns variable, only the first element being timestamp\n",
    "   # concatenate timestamp and data in 1 list\n",
    "   data, timestamp = inlet.pull_chunk(timeout=1.0, max_samples=500) #get all samples for the 2 seconds\n",
    "   data, timestamp = inlet.pull_sample()\n",
    "   #timestamp = timestamp+inlet.time_correction()\n",
    "   #all_data = [timestamp] + data\n",
    "   \n",
    "   if old_timestamp:\n",
    "      delay_list.append((timestamp - old_timestamp)*1000)\n",
    "   old_timestamp = timestamp\n",
    "\n",
    "   x+=1\n",
    "   # # updating data dictionary with newly transmitted samples   \n",
    "   # i = 0\n",
    "   # for key in list(data_dict.keys()):\n",
    "   #    data_dict[key].append(all_data[i])\n",
    "   #    i = i + 1\n",
    "      \n",
    "   # # data is collected at 250 Hz. Let's stop data collection after 60 seconds. Meaning we stop when we collected 250*60 samples.\n",
    "   # if len(data_dict['Time']) >= 250*10:\n",
    "   #    finished = True\n",
    "\n",
    "inlet.close_stream()\n",
    "# lastly, we can save our data to a CSV format.\n",
    "data_df = pd.DataFrame.from_dict(data_dict)\n",
    "# data_df.to_csv('EEGdata.csv', index = False) "
   ]
  },
  {
   "cell_type": "code",
   "execution_count": 28,
   "metadata": {},
   "outputs": [
    {
     "data": {
      "image/png": "[encoded data removed]",
      "text/plain": [
       "<Figure size 640x480 with 1 Axes>"
      ]
     },
     "metadata": {},
     "output_type": "display_data"
    }
   ],
   "source": [
    "import matplotlib.pyplot as plt\n",
    "import seaborn as sns\n",
    "sns.set_theme()\n",
    "from scipy.stats import norm\n",
    "import numpy as np\n",
    "\n",
    "# Some sample data\n",
    "data = np.array(delay_list)\n",
    "\n",
    "# Create histogram\n",
    "sns.histplot(data, kde=False, color='blue', bins=30)\n",
    "\n",
    "# Get histogram data\n",
    "count, bins = np.histogram(data, 30)\n",
    "\n",
    "# Fit a normal distribution to the data\n",
    "mean = data.mean()\n",
    "std = data.std()\n",
    "\n",
    "title = \"Mean: %.2f,  STD: %.2f\" % (mean, std)\n",
    "plt.title(title)\n",
    "\n",
    "plt.show()\n"
   ]
  },
  {
   "cell_type": "code",
   "execution_count": 24,
   "metadata": {},
   "outputs": [
    {
     "data": {
      "text/plain": [
       "999"
      ]
     },
     "execution_count": 24,
     "metadata": {},
     "output_type": "execute_result"
    }
   ],
   "source": [
    "len(delay_list)"
   ]
  },
  {
   "cell_type": "code",
   "execution_count": 21,
   "metadata": {},
   "outputs": [],
   "source": [
    "from pylsl import StreamInfo, StreamInlet, StreamOutlet, resolve_stream\n",
    "import pandas as pd\n",
    "import time\n",
    "\n",
    "# initialize the streaming layer\n",
    "finished = False\n",
    "streams = resolve_byprop(\"name\", \"UN-2019.05.50\", minimum=1)\n",
    "\n",
    "#Create the stream inlet \n",
    "inlet = StreamInlet(streams[0])\n",
    "\n",
    "#initialize the colomns of your data and your dictionary to capture the data.\n",
    "columns=['Time','FZ', 'C3', 'CZ', 'C4', 'PZ', 'PO7', 'OZ', 'PO8','AccX','AccY','AccZ',\n",
    "'Gyro1','Gyro2','Gyro3', 'Battery','Counter','Validation']\n",
    "data_dict = dict((k, []) for k in columns)\n",
    "x=0\n",
    "time_list = []\n",
    "old_timestamp = None\n",
    "while x < 1000: #not finished:\n",
    "   # get the streamed data. Columns of sample are equal to the columns variable, only the first element being timestamp\n",
    "   # concatenate timestamp and data in 1 list\n",
    "   #data, timestamp = inlet.pull_sample()\n",
    "   data, timestamp = inlet.pull_sample()\n",
    "   #timestamp = timestamp+inlet.time_correction()\n",
    "   #all_data = [timestamp] + data\n",
    "   time_list.append(timestamp)\n",
    "   # if old_timestamp:\n",
    "   #    print((timestamp - old_timestamp)*1000)\n",
    "   # old_timestamp = timestamp\n",
    "   x+=1\n",
    "   # # updating data dictionary with newly transmitted samples   \n",
    "   # i = 0\n",
    "   # for key in list(data_dict.keys()):\n",
    "   #    data_dict[key].append(all_data[i])\n",
    "   #    i = i + 1\n",
    "      \n",
    "   # # data is collected at 250 Hz. Let's stop data collection after 60 seconds. Meaning we stop when we collected 250*60 samples.\n",
    "   # if len(data_dict['Time']) >= 250*10:\n",
    "   #    finished = True\n",
    "\n",
    "inlet.close_stream()\n",
    "# lastly, we can save our data to a CSV format.\n",
    "data_df = pd.DataFrame.from_dict(data_dict)\n",
    "# data_df.to_csv('EEGdata.csv', index = False) "
   ]
  },
  {
   "cell_type": "code",
   "execution_count": 22,
   "metadata": {},
   "outputs": [
    {
     "data": {
      "text/plain": [
       "[24314.8761256,\n",
       " 24314.8761407,\n",
       " 24314.8891973,\n",
       " 24314.892305,\n",
       " 24314.8923195,\n",
       " 24314.8942919,\n",
       " 24314.8988726,\n",
       " 24314.9067657,\n",
       " 24314.9097794,\n",
       " 24314.9097976]"
      ]
     },
     "execution_count": 22,
     "metadata": {},
     "output_type": "execute_result"
    }
   ],
   "source": [
    "time_list"
   ]
  },
  {
   "cell_type": "code",
   "execution_count": null,
   "metadata": {},
   "outputs": [],
   "source": [
    "for i in range(len(timestamp)):\n",
    "    if i < len(timestamp)-1:\n",
    "        print((timestamp[i+1]-timestamp[i])*1000)"
   ]
  },
  {
   "cell_type": "code",
   "execution_count": 32,
   "metadata": {},
   "outputs": [
    {
     "data": {
      "text/plain": [
       "-20.943999999872176"
      ]
     },
     "execution_count": 32,
     "metadata": {},
     "output_type": "execute_result"
    }
   ],
   "source": [
    "(9051.7363938-9051.7573378)*1000"
   ]
  },
  {
   "cell_type": "code",
   "execution_count": 27,
   "metadata": {},
   "outputs": [
    {
     "data": {
      "text/plain": [
       "datetime.datetime(1969, 12, 31, 19, 58, 0, 864624)"
      ]
     },
     "execution_count": 27,
     "metadata": {},
     "output_type": "execute_result"
    }
   ],
   "source": [
    "from datetime import datetime\n",
    "timestamp = data_dict[\"Time\"][0]\n",
    "datetime.fromtimestamp(timestamp)"
   ]
  },
  {
   "cell_type": "code",
   "execution_count": null,
   "metadata": {},
   "outputs": [],
   "source": [
    "for i in range(len(data_dict[\"Time\"])):\n",
    "    if i < len(data_dict[\"Time\"])-1:\n",
    "        print((data_dict[\"Time\"][i+1]-data_dict[\"Time\"][i])*1000)"
   ]
  },
  {
   "cell_type": "code",
   "execution_count": 20,
   "metadata": {},
   "outputs": [
    {
     "data": {
      "text/plain": [
       "-999.2842999999993"
      ]
     },
     "execution_count": 20,
     "metadata": {},
     "output_type": "execute_result"
    }
   ],
   "source": [
    "(data_df['Time'][504] - data_df['Time'][755])*1000"
   ]
  },
  {
   "cell_type": "code",
   "execution_count": 5,
   "metadata": {},
   "outputs": [
    {
     "data": {
      "text/html": [
       "<div>\n",
       "<style scoped>\n",
       "    .dataframe tbody tr th:only-of-type {\n",
       "        vertical-align: middle;\n",
       "    }\n",
       "\n",
       "    .dataframe tbody tr th {\n",
       "        vertical-align: top;\n",
       "    }\n",
       "\n",
       "    .dataframe thead th {\n",
       "        text-align: right;\n",
       "    }\n",
       "</style>\n",
       "<table border=\"1\" class=\"dataframe\">\n",
       "  <thead>\n",
       "    <tr style=\"text-align: right;\">\n",
       "      <th></th>\n",
       "      <th>Time</th>\n",
       "      <th>FZ</th>\n",
       "      <th>C3</th>\n",
       "      <th>CZ</th>\n",
       "      <th>C4</th>\n",
       "      <th>PZ</th>\n",
       "      <th>PO7</th>\n",
       "      <th>OZ</th>\n",
       "      <th>PO8</th>\n",
       "      <th>AccX</th>\n",
       "      <th>AccY</th>\n",
       "      <th>AccZ</th>\n",
       "      <th>Gyro1</th>\n",
       "      <th>Gyro2</th>\n",
       "      <th>Gyro3</th>\n",
       "      <th>Battery</th>\n",
       "      <th>Counter</th>\n",
       "      <th>Validation</th>\n",
       "    </tr>\n",
       "  </thead>\n",
       "  <tbody>\n",
       "    <tr>\n",
       "      <th>0</th>\n",
       "      <td>3107.726995</td>\n",
       "      <td>275591.03125</td>\n",
       "      <td>275537.46875</td>\n",
       "      <td>275944.18750</td>\n",
       "      <td>275876.68750</td>\n",
       "      <td>275782.00000</td>\n",
       "      <td>275888.21875</td>\n",
       "      <td>276055.15625</td>\n",
       "      <td>276337.75000</td>\n",
       "      <td>-0.479492</td>\n",
       "      <td>0.009033</td>\n",
       "      <td>-0.882324</td>\n",
       "      <td>-0.671387</td>\n",
       "      <td>1.953125</td>\n",
       "      <td>1.007080</td>\n",
       "      <td>73.333336</td>\n",
       "      <td>17550.0</td>\n",
       "      <td>1.0</td>\n",
       "    </tr>\n",
       "    <tr>\n",
       "      <th>1</th>\n",
       "      <td>3107.727017</td>\n",
       "      <td>275613.90625</td>\n",
       "      <td>275560.28125</td>\n",
       "      <td>275967.00000</td>\n",
       "      <td>275899.75000</td>\n",
       "      <td>275804.81250</td>\n",
       "      <td>275911.28125</td>\n",
       "      <td>276078.12500</td>\n",
       "      <td>276360.46875</td>\n",
       "      <td>-0.479248</td>\n",
       "      <td>0.009521</td>\n",
       "      <td>-0.883301</td>\n",
       "      <td>-0.701904</td>\n",
       "      <td>1.861572</td>\n",
       "      <td>0.915527</td>\n",
       "      <td>73.333336</td>\n",
       "      <td>17551.0</td>\n",
       "      <td>1.0</td>\n",
       "    </tr>\n",
       "    <tr>\n",
       "      <th>2</th>\n",
       "      <td>3107.730814</td>\n",
       "      <td>275599.71875</td>\n",
       "      <td>275546.06250</td>\n",
       "      <td>275952.78125</td>\n",
       "      <td>275885.53125</td>\n",
       "      <td>275790.68750</td>\n",
       "      <td>275896.90625</td>\n",
       "      <td>276064.09375</td>\n",
       "      <td>276346.62500</td>\n",
       "      <td>-0.480957</td>\n",
       "      <td>0.010010</td>\n",
       "      <td>-0.885498</td>\n",
       "      <td>-0.671387</td>\n",
       "      <td>1.953125</td>\n",
       "      <td>0.976562</td>\n",
       "      <td>73.333336</td>\n",
       "      <td>17552.0</td>\n",
       "      <td>1.0</td>\n",
       "    </tr>\n",
       "    <tr>\n",
       "      <th>3</th>\n",
       "      <td>3107.730831</td>\n",
       "      <td>275584.93750</td>\n",
       "      <td>275530.93750</td>\n",
       "      <td>275937.46875</td>\n",
       "      <td>275870.15625</td>\n",
       "      <td>275775.84375</td>\n",
       "      <td>275881.68750</td>\n",
       "      <td>276049.06250</td>\n",
       "      <td>276331.68750</td>\n",
       "      <td>-0.480225</td>\n",
       "      <td>0.010254</td>\n",
       "      <td>-0.884766</td>\n",
       "      <td>-0.732422</td>\n",
       "      <td>1.953125</td>\n",
       "      <td>1.007080</td>\n",
       "      <td>73.333336</td>\n",
       "      <td>17553.0</td>\n",
       "      <td>1.0</td>\n",
       "    </tr>\n",
       "    <tr>\n",
       "      <th>4</th>\n",
       "      <td>3107.730835</td>\n",
       "      <td>275609.43750</td>\n",
       "      <td>275555.90625</td>\n",
       "      <td>275962.06250</td>\n",
       "      <td>275895.03125</td>\n",
       "      <td>275800.50000</td>\n",
       "      <td>275906.62500</td>\n",
       "      <td>276073.46875</td>\n",
       "      <td>276356.00000</td>\n",
       "      <td>-0.479980</td>\n",
       "      <td>0.009277</td>\n",
       "      <td>-0.879150</td>\n",
       "      <td>-0.701904</td>\n",
       "      <td>1.953125</td>\n",
       "      <td>0.946045</td>\n",
       "      <td>73.333336</td>\n",
       "      <td>17554.0</td>\n",
       "      <td>1.0</td>\n",
       "    </tr>\n",
       "    <tr>\n",
       "      <th>5</th>\n",
       "      <td>3107.730838</td>\n",
       "      <td>275638.06250</td>\n",
       "      <td>275584.31250</td>\n",
       "      <td>275990.87500</td>\n",
       "      <td>275923.71875</td>\n",
       "      <td>275828.84375</td>\n",
       "      <td>275935.53125</td>\n",
       "      <td>276102.00000</td>\n",
       "      <td>276384.87500</td>\n",
       "      <td>-0.480469</td>\n",
       "      <td>0.010010</td>\n",
       "      <td>-0.875732</td>\n",
       "      <td>-0.732422</td>\n",
       "      <td>1.922607</td>\n",
       "      <td>0.946045</td>\n",
       "      <td>73.333336</td>\n",
       "      <td>17555.0</td>\n",
       "      <td>1.0</td>\n",
       "    </tr>\n",
       "    <tr>\n",
       "      <th>6</th>\n",
       "      <td>3107.733355</td>\n",
       "      <td>275629.65625</td>\n",
       "      <td>275576.37500</td>\n",
       "      <td>275982.37500</td>\n",
       "      <td>275915.31250</td>\n",
       "      <td>275820.62500</td>\n",
       "      <td>275926.84375</td>\n",
       "      <td>276093.59375</td>\n",
       "      <td>276376.56250</td>\n",
       "      <td>-0.480469</td>\n",
       "      <td>0.009521</td>\n",
       "      <td>-0.882080</td>\n",
       "      <td>-0.671387</td>\n",
       "      <td>1.922607</td>\n",
       "      <td>0.976562</td>\n",
       "      <td>73.333336</td>\n",
       "      <td>17556.0</td>\n",
       "      <td>1.0</td>\n",
       "    </tr>\n",
       "    <tr>\n",
       "      <th>7</th>\n",
       "      <td>3107.733372</td>\n",
       "      <td>275613.37500</td>\n",
       "      <td>275560.18750</td>\n",
       "      <td>275966.53125</td>\n",
       "      <td>275899.31250</td>\n",
       "      <td>275804.28125</td>\n",
       "      <td>275910.65625</td>\n",
       "      <td>276077.40625</td>\n",
       "      <td>276360.56250</td>\n",
       "      <td>-0.481934</td>\n",
       "      <td>0.010742</td>\n",
       "      <td>-0.883545</td>\n",
       "      <td>-0.701904</td>\n",
       "      <td>1.892090</td>\n",
       "      <td>0.976562</td>\n",
       "      <td>73.333336</td>\n",
       "      <td>17557.0</td>\n",
       "      <td>1.0</td>\n",
       "    </tr>\n",
       "    <tr>\n",
       "      <th>8</th>\n",
       "      <td>3107.735308</td>\n",
       "      <td>275634.12500</td>\n",
       "      <td>275580.40625</td>\n",
       "      <td>275986.75000</td>\n",
       "      <td>275919.87500</td>\n",
       "      <td>275824.65625</td>\n",
       "      <td>275930.87500</td>\n",
       "      <td>276097.68750</td>\n",
       "      <td>276380.75000</td>\n",
       "      <td>-0.481689</td>\n",
       "      <td>0.011230</td>\n",
       "      <td>-0.882812</td>\n",
       "      <td>-0.854492</td>\n",
       "      <td>2.014160</td>\n",
       "      <td>1.037598</td>\n",
       "      <td>73.333336</td>\n",
       "      <td>17558.0</td>\n",
       "      <td>1.0</td>\n",
       "    </tr>\n",
       "    <tr>\n",
       "      <th>9</th>\n",
       "      <td>3107.749707</td>\n",
       "      <td>275667.84375</td>\n",
       "      <td>275614.09375</td>\n",
       "      <td>276020.28125</td>\n",
       "      <td>275953.50000</td>\n",
       "      <td>275858.90625</td>\n",
       "      <td>275964.65625</td>\n",
       "      <td>276131.59375</td>\n",
       "      <td>276414.46875</td>\n",
       "      <td>-0.480957</td>\n",
       "      <td>0.012207</td>\n",
       "      <td>-0.881104</td>\n",
       "      <td>-0.701904</td>\n",
       "      <td>2.014160</td>\n",
       "      <td>0.976562</td>\n",
       "      <td>73.333336</td>\n",
       "      <td>17559.0</td>\n",
       "      <td>1.0</td>\n",
       "    </tr>\n",
       "  </tbody>\n",
       "</table>\n",
       "</div>"
      ],
      "text/plain": [
       "          Time            FZ            C3            CZ            C4  \\\n",
       "0  3107.726995  275591.03125  275537.46875  275944.18750  275876.68750   \n",
       "1  3107.727017  275613.90625  275560.28125  275967.00000  275899.75000   \n",
       "2  3107.730814  275599.71875  275546.06250  275952.78125  275885.53125   \n",
       "3  3107.730831  275584.93750  275530.93750  275937.46875  275870.15625   \n",
       "4  3107.730835  275609.43750  275555.90625  275962.06250  275895.03125   \n",
       "5  3107.730838  275638.06250  275584.31250  275990.87500  275923.71875   \n",
       "6  3107.733355  275629.65625  275576.37500  275982.37500  275915.31250   \n",
       "7  3107.733372  275613.37500  275560.18750  275966.53125  275899.31250   \n",
       "8  3107.735308  275634.12500  275580.40625  275986.75000  275919.87500   \n",
       "9  3107.749707  275667.84375  275614.09375  276020.28125  275953.50000   \n",
       "\n",
       "             PZ           PO7            OZ           PO8      AccX      AccY  \\\n",
       "0  275782.00000  275888.21875  276055.15625  276337.75000 -0.479492  0.009033   \n",
       "1  275804.81250  275911.28125  276078.12500  276360.46875 -0.479248  0.009521   \n",
       "2  275790.68750  275896.90625  276064.09375  276346.62500 -0.480957  0.010010   \n",
       "3  275775.84375  275881.68750  276049.06250  276331.68750 -0.480225  0.010254   \n",
       "4  275800.50000  275906.62500  276073.46875  276356.00000 -0.479980  0.009277   \n",
       "5  275828.84375  275935.53125  276102.00000  276384.87500 -0.480469  0.010010   \n",
       "6  275820.62500  275926.84375  276093.59375  276376.56250 -0.480469  0.009521   \n",
       "7  275804.28125  275910.65625  276077.40625  276360.56250 -0.481934  0.010742   \n",
       "8  275824.65625  275930.87500  276097.68750  276380.75000 -0.481689  0.011230   \n",
       "9  275858.90625  275964.65625  276131.59375  276414.46875 -0.480957  0.012207   \n",
       "\n",
       "       AccZ     Gyro1     Gyro2     Gyro3    Battery  Counter  Validation  \n",
       "0 -0.882324 -0.671387  1.953125  1.007080  73.333336  17550.0         1.0  \n",
       "1 -0.883301 -0.701904  1.861572  0.915527  73.333336  17551.0         1.0  \n",
       "2 -0.885498 -0.671387  1.953125  0.976562  73.333336  17552.0         1.0  \n",
       "3 -0.884766 -0.732422  1.953125  1.007080  73.333336  17553.0         1.0  \n",
       "4 -0.879150 -0.701904  1.953125  0.946045  73.333336  17554.0         1.0  \n",
       "5 -0.875732 -0.732422  1.922607  0.946045  73.333336  17555.0         1.0  \n",
       "6 -0.882080 -0.671387  1.922607  0.976562  73.333336  17556.0         1.0  \n",
       "7 -0.883545 -0.701904  1.892090  0.976562  73.333336  17557.0         1.0  \n",
       "8 -0.882812 -0.854492  2.014160  1.037598  73.333336  17558.0         1.0  \n",
       "9 -0.881104 -0.701904  2.014160  0.976562  73.333336  17559.0         1.0  "
      ]
     },
     "execution_count": 5,
     "metadata": {},
     "output_type": "execute_result"
    }
   ],
   "source": [
    "data_df"
   ]
  }
 ],
 "metadata": {
  "kernelspec": {
   "display_name": "mindstream",
   "language": "python",
   "name": "python3"
  },
  "language_info": {
   "codemirror_mode": {
    "name": "ipython",
    "version": 3
   },
   "file_extension": ".py",
   "mimetype": "text/x-python",
   "name": "python",
   "nbconvert_exporter": "python",
   "pygments_lexer": "ipython3",
   "version": "3.9.16"
  },
  "orig_nbformat": 4
 },
 "nbformat": 4,
 "nbformat_minor": 2
}
