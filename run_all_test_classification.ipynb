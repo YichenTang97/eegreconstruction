{
 "cells": [
  {
   "cell_type": "code",
   "execution_count": null,
   "metadata": {},
   "outputs": [],
   "source": [
    "import os\n",
    "import torch\n",
    "import torch.nn as nn\n",
    "import pytorch_lightning as pl\n",
    "import yaml\n",
    "\n",
    "from pytorch.data_setup.DataModule import DataModule\n",
    "from pytorch.models.EEGNet import EEGNetv4\n",
    "from pytorch.models.TSception import TSception\n",
    "from pytorch.models.EEGChannelNet import ChannelNet\n",
    "from pytorch.models.Conformer import Conformer\n",
    "\n",
    "def read_config(config_path: str):\n",
    "    with open(config_path) as file:\n",
    "        config = yaml.load(file, Loader=yaml.FullLoader)\n",
    "    return config\n",
    "\n",
    "for sub in [\"P001\", \"P002\", \"P004\", \"P005\", \"P006\", \"P007\", \"P008\", \"P009\"]: \n",
    "    for model_name in [\"EEGNet\", \"TSception\", \"ChannelNet\", \"Conformer\"]:\n",
    "        config = read_config(config_path = f\"./pytorch/configs/test/{sub}/{sub}_{model_name}_test.yaml\")\n",
    "        model_config = config[\"parameters\"][\"model\"][\"parameters\"]\n",
    "        dm_config = config[\"parameters\"][\"datamodule\"][\"parameters\"]\n",
    "        model_config = {key: model_config[key][\"value\"] for key in model_config}\n",
    "        dm_config = {key: dm_config[key][\"value\"] for key in dm_config}\n",
    "        if model_name == \"EEGNet\":\n",
    "            model = EEGNetv4(**model_config) \n",
    "        elif model_name == \"TSception\":\n",
    "            model = TSception(**model_config) \n",
    "        elif model_name == \"ChannelNet\":\n",
    "            model = ChannelNet(**model_config) \n",
    "        elif model_name == \"Conformer\":\n",
    "            model = Conformer(**model_config) \n",
    "        ckpt_path = f\"./pytorch/final_classification_ckpts/{sub}/{model_name}_{sub}.ckpt\"\n",
    "        checkpoint = torch.load(ckpt_path)\n",
    "        model.load_state_dict(checkpoint['state_dict'])\n",
    "        model.eval()\n",
    "        model.freeze()\n",
    "        trainer = pl.Trainer()\n",
    "        dm = DataModule(**dm_config)\n",
    "        print(f\"Testing {model_name} on {sub}\")\n",
    "        trainer.test(model = model, datamodule = dm)"
   ]
  }
 ],
 "metadata": {
  "kernelspec": {
   "display_name": "vision",
   "language": "python",
   "name": "python3"
  },
  "language_info": {
   "codemirror_mode": {
    "name": "ipython",
    "version": 3
   },
   "file_extension": ".py",
   "mimetype": "text/x-python",
   "name": "python",
   "nbconvert_exporter": "python",
   "pygments_lexer": "ipython3",
   "version": "3.10.11"
  }
 },
 "nbformat": 4,
 "nbformat_minor": 2
}
